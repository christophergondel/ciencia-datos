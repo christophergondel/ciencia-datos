{
 "cells": [
  {
   "cell_type": "markdown",
   "metadata": {},
   "source": [
    "# Clasificación con Support Vector Machines\n",
    "\n",
    "SVM es un algoritmo de Machine Learning que se utiliza en problemas de clasificación. Los algoritmos SVM se encargan de encontrar un separador, es decir, una curva, plano o hiperplano que permita separar las categorías. \n",
    "\n",
    "Los algoritmos de SVM mapean los datos a un espacio de más dimensiones que permitan visualizar las categorías con más facilidad. \n",
    "\n",
    "Por ejemplo, supongamos que tenemos dos categorías y que al representar dos de sus características una frente a la otra vemos que hay una separación entre las categorías pero que no es lineal, sino que se dibuja una curva como vemos a continuación:\n",
    "\n",
    "<img src=\"nolinear.png\">\n",
    "\n",
    "En lugar de trabajar con dos dimensiones, vamos a construir un espacio tridimensional:\n",
    "\n",
    "<img src=\"hiperplano.png\">\n",
    "\n",
    "Como vemos en esta imagen, ahora las categorías están separadas completamente por un plano bidimensional. "
   ]
  },
  {
   "cell_type": "markdown",
   "metadata": {},
   "source": [
    "En general, un algoritmos SVM buscará un hiperplano óptimo que permita la separación de las categorías de forma precisa. El hecho de mapear los datos a dimensiones superiores se denomina <b>kernelling</b>. \n",
    "\n",
    "Tenemos dos principales ventajas a la hora de trabajar con SVM:  Funciona bien en espacios de varias dimensiones y además es eficiente a nivel computacional."
   ]
  },
  {
   "cell_type": "markdown",
   "metadata": {},
   "source": [
    "# Clasificando muestras en benignas o malignas usando SVM"
   ]
  },
  {
   "cell_type": "code",
   "execution_count": 53,
   "metadata": {},
   "outputs": [
    {
     "data": {
      "text/plain": [
       "'%.4f'"
      ]
     },
     "execution_count": 53,
     "metadata": {},
     "output_type": "execute_result"
    }
   ],
   "source": [
    "import pandas as pd\n",
    "import numpy as np\n",
    "from sklearn import preprocessing\n",
    "from sklearn.model_selection import train_test_split\n",
    "%matplotlib inline \n",
    "import matplotlib.pyplot as plt\n",
    "\n",
    "import warnings\n",
    "warnings.simplefilter(action='ignore', category=FutureWarning)\n",
    "\n",
    "%precision 4"
   ]
  },
  {
   "cell_type": "code",
   "execution_count": 54,
   "metadata": {},
   "outputs": [
    {
     "data": {
      "text/html": [
       "<div>\n",
       "<style scoped>\n",
       "    .dataframe tbody tr th:only-of-type {\n",
       "        vertical-align: middle;\n",
       "    }\n",
       "\n",
       "    .dataframe tbody tr th {\n",
       "        vertical-align: top;\n",
       "    }\n",
       "\n",
       "    .dataframe thead th {\n",
       "        text-align: right;\n",
       "    }\n",
       "</style>\n",
       "<table border=\"1\" class=\"dataframe\">\n",
       "  <thead>\n",
       "    <tr style=\"text-align: right;\">\n",
       "      <th></th>\n",
       "      <th>ID</th>\n",
       "      <th>Clump</th>\n",
       "      <th>UnifSize</th>\n",
       "      <th>UnifShape</th>\n",
       "      <th>MargAdh</th>\n",
       "      <th>SingEpiSize</th>\n",
       "      <th>BareNuc</th>\n",
       "      <th>BlandChrom</th>\n",
       "      <th>NormNucl</th>\n",
       "      <th>Mit</th>\n",
       "      <th>Class</th>\n",
       "    </tr>\n",
       "  </thead>\n",
       "  <tbody>\n",
       "    <tr>\n",
       "      <th>0</th>\n",
       "      <td>1000025</td>\n",
       "      <td>5</td>\n",
       "      <td>1</td>\n",
       "      <td>1</td>\n",
       "      <td>1</td>\n",
       "      <td>2</td>\n",
       "      <td>1</td>\n",
       "      <td>3</td>\n",
       "      <td>1</td>\n",
       "      <td>1</td>\n",
       "      <td>2</td>\n",
       "    </tr>\n",
       "    <tr>\n",
       "      <th>1</th>\n",
       "      <td>1002945</td>\n",
       "      <td>5</td>\n",
       "      <td>4</td>\n",
       "      <td>4</td>\n",
       "      <td>5</td>\n",
       "      <td>7</td>\n",
       "      <td>10</td>\n",
       "      <td>3</td>\n",
       "      <td>2</td>\n",
       "      <td>1</td>\n",
       "      <td>2</td>\n",
       "    </tr>\n",
       "    <tr>\n",
       "      <th>2</th>\n",
       "      <td>1015425</td>\n",
       "      <td>3</td>\n",
       "      <td>1</td>\n",
       "      <td>1</td>\n",
       "      <td>1</td>\n",
       "      <td>2</td>\n",
       "      <td>2</td>\n",
       "      <td>3</td>\n",
       "      <td>1</td>\n",
       "      <td>1</td>\n",
       "      <td>2</td>\n",
       "    </tr>\n",
       "    <tr>\n",
       "      <th>3</th>\n",
       "      <td>1016277</td>\n",
       "      <td>6</td>\n",
       "      <td>8</td>\n",
       "      <td>8</td>\n",
       "      <td>1</td>\n",
       "      <td>3</td>\n",
       "      <td>4</td>\n",
       "      <td>3</td>\n",
       "      <td>7</td>\n",
       "      <td>1</td>\n",
       "      <td>2</td>\n",
       "    </tr>\n",
       "    <tr>\n",
       "      <th>4</th>\n",
       "      <td>1017023</td>\n",
       "      <td>4</td>\n",
       "      <td>1</td>\n",
       "      <td>1</td>\n",
       "      <td>3</td>\n",
       "      <td>2</td>\n",
       "      <td>1</td>\n",
       "      <td>3</td>\n",
       "      <td>1</td>\n",
       "      <td>1</td>\n",
       "      <td>2</td>\n",
       "    </tr>\n",
       "  </tbody>\n",
       "</table>\n",
       "</div>"
      ],
      "text/plain": [
       "        ID  Clump  UnifSize  UnifShape  MargAdh  SingEpiSize BareNuc  \\\n",
       "0  1000025      5         1          1        1            2       1   \n",
       "1  1002945      5         4          4        5            7      10   \n",
       "2  1015425      3         1          1        1            2       2   \n",
       "3  1016277      6         8          8        1            3       4   \n",
       "4  1017023      4         1          1        3            2       1   \n",
       "\n",
       "   BlandChrom  NormNucl  Mit  Class  \n",
       "0           3         1    1      2  \n",
       "1           3         2    1      2  \n",
       "2           3         1    1      2  \n",
       "3           3         7    1      2  \n",
       "4           3         1    1      2  "
      ]
     },
     "execution_count": 54,
     "metadata": {},
     "output_type": "execute_result"
    }
   ],
   "source": [
    "df = pd.read_csv('muestras_celulas.csv')\n",
    "df.head()"
   ]
  },
  {
   "cell_type": "markdown",
   "metadata": {},
   "source": [
    "A partir de las variables que tenemos, debemos predecir la columna \"Class\". Los valores que toma son \"benigno\" (2) o \"maligno\" (4)."
   ]
  },
  {
   "cell_type": "code",
   "execution_count": 55,
   "metadata": {},
   "outputs": [
    {
     "name": "stdout",
     "output_type": "stream",
     "text": [
      "ID             0\n",
      "Clump          0\n",
      "UnifSize       0\n",
      "UnifShape      0\n",
      "MargAdh        0\n",
      "SingEpiSize    0\n",
      "BareNuc        0\n",
      "BlandChrom     0\n",
      "NormNucl       0\n",
      "Mit            0\n",
      "Class          0\n",
      "dtype: int64\n",
      "--------\n",
      "ID              int64\n",
      "Clump           int64\n",
      "UnifSize        int64\n",
      "UnifShape       int64\n",
      "MargAdh         int64\n",
      "SingEpiSize     int64\n",
      "BareNuc        object\n",
      "BlandChrom      int64\n",
      "NormNucl        int64\n",
      "Mit             int64\n",
      "Class           int64\n",
      "dtype: object\n"
     ]
    }
   ],
   "source": [
    "print(df.isnull().sum())\n",
    "print(\"--------\")\n",
    "print(df.dtypes)"
   ]
  },
  {
   "cell_type": "code",
   "execution_count": 56,
   "metadata": {},
   "outputs": [],
   "source": [
    "df = df[pd.to_numeric(df['BareNuc'], errors='coerce').notnull()]\n",
    "df['BareNuc']=df['BareNuc'].astype('int')"
   ]
  },
  {
   "cell_type": "code",
   "execution_count": 57,
   "metadata": {},
   "outputs": [],
   "source": [
    "#Vamos a elegir nuestras variables de entrada y la variable de salida\n",
    "variables= ['Clump','UnifSize','UnifShape','MargAdh','SingEpiSize','BareNuc','BlandChrom','NormNucl','Mit']\n",
    "X=df[variables]\n",
    "Y=df['Class']"
   ]
  },
  {
   "cell_type": "code",
   "execution_count": 93,
   "metadata": {},
   "outputs": [
    {
     "name": "stdout",
     "output_type": "stream",
     "text": [
      "Set de entrenamiento (dimensiones) : (546, 9) (546,)\n",
      "Set de testeo (dimensiones):  (137, 9) (137,)\n"
     ]
    }
   ],
   "source": [
    "#Vamos a separar el set de datos en entrenamiento y testeo\n",
    "X_train, X_test, Y_train, Y_test = train_test_split( X, Y, test_size=0.2, random_state=4, stratify=Y)\n",
    "print ('Set de entrenamiento (dimensiones) :', X_train.shape,  Y_train.shape)\n",
    "print ('Set de testeo (dimensiones): ', X_test.shape,  Y_test.shape)"
   ]
  },
  {
   "cell_type": "code",
   "execution_count": 94,
   "metadata": {},
   "outputs": [
    {
     "data": {
      "text/plain": [
       "SVC(C=1.0, cache_size=200, class_weight=None, coef0=0.0,\n",
       "    decision_function_shape='ovr', degree=3, gamma='auto_deprecated',\n",
       "    kernel='rbf', max_iter=-1, probability=False, random_state=None,\n",
       "    shrinking=True, tol=0.001, verbose=False)"
      ]
     },
     "execution_count": 94,
     "metadata": {},
     "output_type": "execute_result"
    }
   ],
   "source": [
    "#Vamos a construir el modelo SVM usando sklearn con una función de base radial (kernel=rbf)\n",
    "from sklearn import svm\n",
    "model = svm.SVC(kernel='rbf')\n",
    "model.fit(X_train,Y_train)"
   ]
  },
  {
   "cell_type": "code",
   "execution_count": 95,
   "metadata": {},
   "outputs": [
    {
     "name": "stdout",
     "output_type": "stream",
     "text": [
      "[2 2 4 2 4 2 2 2 2 2 2 4 4 2 4 4 4 2 4 4 2 2 2 2 2 2 2 4 2 4 2 2 4 2 2 4 4\n",
      " 4 2 2 2 4 2 2 2 4 2 2 2 2 2 4 2 4 2 4 4 4 4 4 4 2 2 2 2 2 2 2 2 2 4 2 2 2\n",
      " 2 2 4 2 2 2 2 2 4 4 2 4 2 2 4 2 4 2 4 2 2 4 4 4 2 2 4 2 4 4 2 2 4 4 4 2 4\n",
      " 2 2 2 2 4 2 2 4 2 2 4 4 2 4 4 2 4 2 2 4 4 2 2 4 2 2]\n"
     ]
    }
   ],
   "source": [
    "#Predicción del modelo\n",
    "Y_pred = model.predict(X_test)\n",
    "print(Y_pred)"
   ]
  },
  {
   "cell_type": "code",
   "execution_count": 96,
   "metadata": {},
   "outputs": [
    {
     "name": "stdout",
     "output_type": "stream",
     "text": [
      "El F1-Score es: F1-Score= 0.9638796207370622 y el índice Jaccard es: J=0.930450351191296\n"
     ]
    }
   ],
   "source": [
    "#Evaluación del modelo usando F1-Score y el índice Jaccard\n",
    "from sklearn.metrics import f1_score, jaccard_score\n",
    "F1= f1_score(Y_test, Y_pred, average='weighted')\n",
    "Jac = jaccard_score(Y_test, Y_pred,average='weighted')\n",
    "print('El F1-Score es: F1-Score= '+str(F1)+' y el índice Jaccard es: J='+str(Jac))"
   ]
  },
  {
   "cell_type": "code",
   "execution_count": 97,
   "metadata": {},
   "outputs": [
    {
     "name": "stdout",
     "output_type": "stream",
     "text": [
      "La matriz de confusión es \n",
      " [[84  5]\n",
      " [ 0 48]]\n",
      "-------\n",
      "              precision    recall  f1-score   support\n",
      "\n",
      "           2       1.00      0.94      0.97        89\n",
      "           4       0.91      1.00      0.95        48\n",
      "\n",
      "    accuracy                           0.96       137\n",
      "   macro avg       0.95      0.97      0.96       137\n",
      "weighted avg       0.97      0.96      0.96       137\n",
      "\n"
     ]
    }
   ],
   "source": [
    "from sklearn.metrics import classification_report, confusion_matrix\n",
    "matriz = confusion_matrix(Y_test, Y_pred, labels=[2,4])\n",
    "print('La matriz de confusión es \\n ' + str(matriz))\n",
    "print('-------')\n",
    "print(classification_report(Y_test,Y_pred))"
   ]
  },
  {
   "cell_type": "markdown",
   "metadata": {},
   "source": [
    "# Una vez finalizado... \n",
    "\n",
    "Podemos hacer diferentes pruebas y en lugar de probar con los diferentes kernels que hay:"
   ]
  },
  {
   "cell_type": "code",
   "execution_count": 111,
   "metadata": {},
   "outputs": [
    {
     "name": "stdout",
     "output_type": "stream",
     "text": [
      "[0.9492413182924131, 0.904875122602412, 0.9638796207370622, 0.3371079108305386]\n",
      "[0.9037534562944286, 0.8276814679643147, 0.930450351191296, 0.22760935585273592]\n"
     ]
    }
   ],
   "source": [
    "kernels = ['linear','poly','rbf','sigmoid']\n",
    "f1_total = []\n",
    "jaccard_total = []\n",
    "for i in kernels:\n",
    "    modelo =svm.SVC(kernel=str(i))\n",
    "    modelo.fit(X_train,Y_train)\n",
    "    Y_kernel = modelo.predict(X_test)\n",
    "    F1_bucle= f1_score(Y_test, Y_kernel, average='weighted')\n",
    "    Jac_bucle = jaccard_score(Y_test, Y_kernel, average='weighted')\n",
    "    f1_total.append(F1_bucle)\n",
    "    jaccard_total.append(Jac_bucle)\n",
    "print(f1_total)\n",
    "print(jaccard_total)"
   ]
  },
  {
   "cell_type": "code",
   "execution_count": 118,
   "metadata": {},
   "outputs": [],
   "source": [
    "kernels2 = ['Lineal','Polinómico','RBF','Sigmoide']\n",
    "\n",
    "scores = pd.DataFrame(list(zip(kernels2,f1_total, jaccard_total)), \n",
    "               columns =['Kernel', 'F1','Jaccard']) "
   ]
  },
  {
   "cell_type": "code",
   "execution_count": 119,
   "metadata": {},
   "outputs": [
    {
     "data": {
      "text/html": [
       "<div>\n",
       "<style scoped>\n",
       "    .dataframe tbody tr th:only-of-type {\n",
       "        vertical-align: middle;\n",
       "    }\n",
       "\n",
       "    .dataframe tbody tr th {\n",
       "        vertical-align: top;\n",
       "    }\n",
       "\n",
       "    .dataframe thead th {\n",
       "        text-align: right;\n",
       "    }\n",
       "</style>\n",
       "<table border=\"1\" class=\"dataframe\">\n",
       "  <thead>\n",
       "    <tr style=\"text-align: right;\">\n",
       "      <th></th>\n",
       "      <th>Kernel</th>\n",
       "      <th>F1</th>\n",
       "      <th>Jaccard</th>\n",
       "    </tr>\n",
       "  </thead>\n",
       "  <tbody>\n",
       "    <tr>\n",
       "      <th>0</th>\n",
       "      <td>Lineal</td>\n",
       "      <td>0.949241</td>\n",
       "      <td>0.903753</td>\n",
       "    </tr>\n",
       "    <tr>\n",
       "      <th>1</th>\n",
       "      <td>Polinómico</td>\n",
       "      <td>0.904875</td>\n",
       "      <td>0.827681</td>\n",
       "    </tr>\n",
       "    <tr>\n",
       "      <th>2</th>\n",
       "      <td>RBF</td>\n",
       "      <td>0.963880</td>\n",
       "      <td>0.930450</td>\n",
       "    </tr>\n",
       "    <tr>\n",
       "      <th>3</th>\n",
       "      <td>Sigmoide</td>\n",
       "      <td>0.337108</td>\n",
       "      <td>0.227609</td>\n",
       "    </tr>\n",
       "  </tbody>\n",
       "</table>\n",
       "</div>"
      ],
      "text/plain": [
       "       Kernel        F1   Jaccard\n",
       "0      Lineal  0.949241  0.903753\n",
       "1  Polinómico  0.904875  0.827681\n",
       "2         RBF  0.963880  0.930450\n",
       "3    Sigmoide  0.337108  0.227609"
      ]
     },
     "execution_count": 119,
     "metadata": {},
     "output_type": "execute_result"
    }
   ],
   "source": [
    "scores"
   ]
  },
  {
   "cell_type": "code",
   "execution_count": null,
   "metadata": {},
   "outputs": [],
   "source": []
  }
 ],
 "metadata": {
  "kernelspec": {
   "display_name": "Python 3",
   "language": "python",
   "name": "python3"
  },
  "language_info": {
   "codemirror_mode": {
    "name": "ipython",
    "version": 3
   },
   "file_extension": ".py",
   "mimetype": "text/x-python",
   "name": "python",
   "nbconvert_exporter": "python",
   "pygments_lexer": "ipython3",
   "version": "3.7.3"
  }
 },
 "nbformat": 4,
 "nbformat_minor": 2
}
